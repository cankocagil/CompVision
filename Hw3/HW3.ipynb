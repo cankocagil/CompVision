{
 "cells": [
  {
   "cell_type": "markdown",
   "metadata": {
    "id": "JwD8CEaET3vF"
   },
   "source": [
    "\n",
    "<i><b>CS484 - CS555 Introduction to Computer Vision\n",
    "\n",
    ">Dr. Sedat OZER \n",
    "\n",
    ">Submission Deadline:</b>  23:55, May 09, 2021  - After  that  time, late submissions will receieve 25% penalty per additional day!\n",
    "\n",
    "><b>TA e-mail:</b> \n",
    ">> Akif: akif.ozkanoglu@bilkent.edu.tr\n",
    "\n",
    "\n",
    "><b>Submission link:</b> (Submit your HW through this link:) https://forms.gle/vjBGhAixqrdSyVFE6 <i/>\n"
   ]
  },
  {
   "cell_type": "markdown",
   "metadata": {
    "id": "tVGmiuCtT4gy"
   },
   "source": [
    "# Running your code on Google Colab\n",
    "\n",
    "(This part is a repetation from the first HW)\n",
    "\n",
    "*  It is strongly advised that you first go through the links below and familiarize yourself with the Colab environment. \n",
    "\n",
    "* You should first load this HW file (HW3.ipynb) on Google Colab ( https://colab.research.google.com ) and run it on Google Colab which acts as a remote server since we will also test your code on Colab. Then go through the links below to get a better understanding of Colab environment.\n",
    "* Note that you can run this file on your local jupyter notebook as well, however, we will test your submissions on Google Colab and your code and submitted notebook is expected to run on Google Colab. It is student's responsibility to make sure that his/her submitted file will run on Colab without any error.\n",
    "\n",
    "Useful links (You should go through the links below to get introductory material for Colab and image processing with Python, if you had not done so already!):\n",
    "\n",
    "* https://web.eecs.umich.edu/~justincj/teaching/eecs498/FA2020/colab.html\n",
    "\n",
    "* https://colab.research.google.com/github/cs231n/cs231n.github.io/blob/master/python-colab.ipynb\n",
    "\n",
    "* https://colab.research.google.com/drive/1b8pVMMoR37a3b9ICo8TMqMLVD-WvbzTk\n",
    "\n",
    "* There are many Colab tutorials available on Youtube. Here is a short video: https://www.youtube.com/watch?v=inN8seMm7UI and another video: https://www.youtube.com/watch?v=i-HnvsehuSw\n",
    "\n"
   ]
  },
  {
   "cell_type": "markdown",
   "metadata": {
    "id": "dwtErqaeWTOa"
   },
   "source": [
    "#### __Instructions and Notes on Answering Your Homework__\n",
    "\n",
    "* Save a copy of your own HW3.ipynb file locally and save that file in the following format: ***FullName_StudentID_HW3.ipynb***, where FullName is your name and surname respectively, and StudentID is your student ID number. Then you can upload that file on Colab.\n",
    "* Use the submission link (see above for the link) to submit your solutions.\n",
    "Email your questions to the TA ( akif.ozkanoglu@bilkent.edu.tr ).\n",
    "* You will be graded for your <b>implementation</b>, <b>results</b> and also for a <b>brief explanation</b> of your answer, if asked.\n",
    "* An implementation that is not generating the correct result, may not receive any credit. To get full credit for a question, you need to follow all the instructions given for that question and provide all the required discussions and results correctly.\n",
    "* We will run your code on Colab. Make sure that your code runs without any  error on Colab (codes giving error, may not receive any credit).\n",
    "* All submissions must have your own code/implementation. To get ideas, you can discuss with your friends. But, your submission must be your own work.\n",
    "* Cheating will be punished as described on the course website.\n",
    "* AGAIN: SUBMIT  YOUR SOLUTIONS (your new .ipynb file) as a zip file (as described above) at: https://forms.gle/vjBGhAixqrdSyVFE6 \n",
    "*  Late submissions will receive %25 per day passing the submission deadline. If  you submit your solutions in any other format than .zip format, you will also receive 10 points penalty.\n",
    "\n",
    "\n",
    "\n",
    "\n",
    "\n",
    "\n"
   ]
  },
  {
   "cell_type": "markdown",
   "metadata": {
    "id": "OR4PTiA1XjRW"
   },
   "source": [
    "#### __Loading data from your Google Drive__\n",
    "\n",
    "For loading a file on Colab - you can check the following two sites to get ideas:\n",
    "* https://datascience.stackexchange.com/questions/29480/uploading-images-folder-from-my-system-into-google-colab\n",
    "*  https://towardsdatascience.com/the-2-step-guide-to-upload-images-in-google-colab-b51348e882e4\n",
    "\n",
    "You will load image files in this HW and all of those files are saved in .png format. Loading those files from your Google Drive uses the same logic as you used in your first and second HWs to load images."
   ]
  },
  {
   "cell_type": "code",
   "execution_count": null,
   "metadata": {
    "id": "kcAaHKKrT6WH"
   },
   "outputs": [],
   "source": [
    "from google.colab import drive\n",
    "drive.mount('/content/drive', force_remount=True)"
   ]
  },
  {
   "cell_type": "markdown",
   "metadata": {
    "id": "mtvO0air5Gj1"
   },
   "source": [
    "### Important!!!\n",
    "You should change root directory w.r.t. your Google drive. All image path will be defined like \n",
    "\n",
    "```\n",
    "image_path = root_dir + 'hough2.png' \n",
    "```\n",
    "This step is very important for grading\n"
   ]
  },
  {
   "cell_type": "code",
   "execution_count": null,
   "metadata": {
    "id": "HYULCEb84vjN"
   },
   "outputs": [],
   "source": [
    "# Defıne your root directory that includes given images in zip file\n",
    "root_dir=\"/content/drive/MyDrive/CS484-CS555/HW3/\"\n",
    "# sample image to load in the above-given string format\n",
    "image_hough2 = root_dir + 'hough2.png' \n"
   ]
  },
  {
   "cell_type": "markdown",
   "metadata": {
    "id": "VXe3Gmi-CGhZ"
   },
   "source": [
    "# Part 1\n"
   ]
  },
  {
   "cell_type": "markdown",
   "metadata": {
    "id": "B9VmpYuvCLzs"
   },
   "source": [
    "\n",
    "In this question, we will study multiple spatial filtering operations.\n",
    "In this part of the assignment, you will perform edge detection on the provided three images: `edge1.png`, `edge2.png`, `edge3.png`. You will use different edge detection methods including Sobel, Prewitt and Canny edge detector. You will use gray-scale, single channel version of the provided images.\n"
   ]
  },
  {
   "cell_type": "markdown",
   "metadata": {
    "id": "p-PXBaokCpkp"
   },
   "source": [
    "## 1.1 Edge detection with Sobel and Prewitt operators"
   ]
  },
  {
   "cell_type": "markdown",
   "metadata": {
    "id": "X4qwk3sgC4u-"
   },
   "source": [
    "On each of the given three images, you will detect edges by using Sobel and Prewitt operators separately.\n",
    "\n",
    "\n",
    "*   3x3 Sobel Operators: For each given image above, detect horizontal and vertical edges by using Sobel operators and plot them. Include the results in your report. You will perform both horizontal and vertical edge detection on each image separately by using the corresponding 3x3 Sobel operator.\n",
    "*   3x3 Prewitt Operators: For each given image above, detect horizontal and vertical edges by using Prewitt operators and plot them. Include the results in your report. You will perform both horizontal and vertical edge detection on each image separately by using the corresponding 3x3 Prewitt operator\n",
    "* Comment on your results: Show your results and comment on them: are all the edges successfully detected? Are there any difference between using Sobel and Prewitt filters? If so, report in designated text cell which one yielded better result.\n"
   ]
  },
  {
   "cell_type": "code",
   "execution_count": null,
   "metadata": {
    "id": "4SXIyr97C0wd"
   },
   "outputs": [],
   "source": [
    "# Sobel and Prewitt Operators\n",
    "# implement your code here..."
   ]
  },
  {
   "cell_type": "markdown",
   "metadata": {
    "id": "MvSoqF8k5_We"
   },
   "source": [
    "---ENTER your comments here!! ---"
   ]
  },
  {
   "cell_type": "markdown",
   "metadata": {
    "id": "-9-nymE1DPz1"
   },
   "source": [
    "## 1.2 Edge detection with Canny edge detector"
   ]
  },
  {
   "cell_type": "markdown",
   "metadata": {
    "id": "RK9XJ9IPDU76"
   },
   "source": [
    "Another method that you will use for edge detection is Canny edge detector.\n",
    "For this part, you have to find optimal parameters of Canny edge detector including the Gaussian smoothing parameter σ and the hysteresis thresholding parameters: T_low and T_high (in total three parameters) for each image."
   ]
  },
  {
   "cell_type": "markdown",
   "metadata": {
    "id": "sJSc3KJTDVcR"
   },
   "source": [
    "* Report the best values for each of those three parameters that worked best for you on each image. Comment on why you think that those parameters are the best parameters.\n",
    "* In your results, for comparison, include at least four different sets of parameters (i.e., you need to show different σ, T_low and T_high values and their corresponding result for four times).\n",
    "* How do your results compare to the results obtained from Sobel and Prewitt operators? If you see an improvement, comment on the potential reasons for that."
   ]
  },
  {
   "cell_type": "code",
   "execution_count": null,
   "metadata": {
    "id": "3oGvg3vMDa-u"
   },
   "outputs": [],
   "source": [
    "# Canny Edge Detector\n",
    "# implement your code here..."
   ]
  },
  {
   "cell_type": "markdown",
   "metadata": {
    "id": "l8xKKfxz6keY"
   },
   "source": [
    "---ENTER your comments here!! ---"
   ]
  },
  {
   "cell_type": "markdown",
   "metadata": {
    "id": "uk_1ZmydDkVM"
   },
   "source": [
    "# Part 2 Edge Linking with Hough Transform"
   ]
  },
  {
   "cell_type": "markdown",
   "metadata": {
    "id": "0G7ZNxdJDlWh"
   },
   "source": [
    "For this part of the assignment, you will implement Hough transform and visualize the quality of your Hough implementation by drawing the detected lines on the input grayscale image. Hough transform operates on the detected edges to fit line(s) on the edge pixels. Please refer to the slides on Edge Detection. You should also check other online resources such as: [PDF tutorial](http://web.ipac.caltech.edu/staff/fmasci/home/astro_refs/HoughTrans_lines_09.pdf) for various presentations of Hough transform. In this section, you have three parts to work on. See below:"
   ]
  },
  {
   "cell_type": "markdown",
   "metadata": {
    "id": "m3cf8BhxEAJN"
   },
   "source": [
    "1. Implement Hough transform to predict the line parameters: ρ and θ for the lines that fit to the edges as discussed in the class. Use your implementation to find the lines shown on hough.png. To check your results, please refer to `hough.png` and `hough_res.png`. For the input image: `hough.png`, the expected output is shown in `hough_res.png`. The image: `hough_res.png` shows the expected detected lines in red.\n"
   ]
  },
  {
   "cell_type": "code",
   "execution_count": null,
   "metadata": {
    "id": "AsXGRbBXEJH5"
   },
   "outputs": [],
   "source": [
    "# implement your code here..."
   ]
  },
  {
   "cell_type": "markdown",
   "metadata": {
    "id": "8mufkg8pERwP"
   },
   "source": [
    "2. You will use the images: `edge1.png` and `hough2.png` for the rest of this question (Image `hough2.png`). Apply Hough transform to find the lines in the images: `edge1.png` and `hough2.png` and highlight the found lines on each of those images. Remember: Typically, Hough Transform is used after applying an edge detection operator on the input image. First apply the edge detection algorithm of your choosing (from the ones used in the previous part) and then apply Hough Transform to find the lines on the detected edges. Plot both Hough Transforms (in ρ and θ space) and detected lines in the image space for each image. Did you need to use thresholding in Hough Space? If so, what threshold value worked best for you to find meaningful lines on each image?\n",
    "\n",
    "3. For the image: `edge.png`, use Hough Transform and particularly find the line of the horizon that is clearly visible in the image. Report your results. Comment on the performance of your implementation, how well you were able to find the horizon line."
   ]
  },
  {
   "cell_type": "code",
   "execution_count": null,
   "metadata": {
    "id": "-ZSQ-pN2EVhT"
   },
   "outputs": [],
   "source": [
    "# implement your code here..."
   ]
  },
  {
   "cell_type": "markdown",
   "metadata": {
    "id": "iJIv5K8oCBkj"
   },
   "source": [
    "---ENTER your comments here!! ---"
   ]
  }
 ],
 "metadata": {
  "colab": {
   "collapsed_sections": [],
   "name": "HW3.ipynb",
   "provenance": []
  },
  "kernelspec": {
   "display_name": "Python 3",
   "language": "python",
   "name": "python3"
  },
  "language_info": {
   "codemirror_mode": {
    "name": "ipython",
    "version": 3
   },
   "file_extension": ".py",
   "mimetype": "text/x-python",
   "name": "python",
   "nbconvert_exporter": "python",
   "pygments_lexer": "ipython3",
   "version": "3.8.5"
  }
 },
 "nbformat": 4,
 "nbformat_minor": 1
}
